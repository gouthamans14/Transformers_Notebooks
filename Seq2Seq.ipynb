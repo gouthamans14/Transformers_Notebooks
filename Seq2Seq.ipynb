{
  "nbformat": 4,
  "nbformat_minor": 0,
  "metadata": {
    "colab": {
      "provenance": [],
      "gpuType": "T4",
      "authorship_tag": "ABX9TyNJchsrFH/4XibS2KpM02q5",
      "include_colab_link": true
    },
    "kernelspec": {
      "name": "python3",
      "display_name": "Python 3"
    },
    "language_info": {
      "name": "python"
    },
    "accelerator": "GPU"
  },
  "cells": [
    {
      "cell_type": "markdown",
      "metadata": {
        "id": "view-in-github",
        "colab_type": "text"
      },
      "source": [
        "<a href=\"https://colab.research.google.com/github/gouthamans14/Transformers_Notebooks/blob/main/Seq2Seq.ipynb\" target=\"_parent\"><img src=\"https://colab.research.google.com/assets/colab-badge.svg\" alt=\"Open In Colab\"/></a>"
      ]
    },
    {
      "cell_type": "code",
      "source": [
        "! pip install sacrebleu bert-score"
      ],
      "metadata": {
        "colab": {
          "base_uri": "https://localhost:8080/"
        },
        "id": "JzPZc2vH75g9",
        "outputId": "83939bfa-a309-4e6a-ba25-9c9a45c7b393"
      },
      "execution_count": 13,
      "outputs": [
        {
          "output_type": "stream",
          "name": "stdout",
          "text": [
            "Requirement already satisfied: sacrebleu in /usr/local/lib/python3.10/dist-packages (2.3.1)\n",
            "Requirement already satisfied: bert-score in /usr/local/lib/python3.10/dist-packages (0.3.13)\n",
            "Requirement already satisfied: portalocker in /usr/local/lib/python3.10/dist-packages (from sacrebleu) (2.7.0)\n",
            "Requirement already satisfied: regex in /usr/local/lib/python3.10/dist-packages (from sacrebleu) (2023.6.3)\n",
            "Requirement already satisfied: tabulate>=0.8.9 in /usr/local/lib/python3.10/dist-packages (from sacrebleu) (0.9.0)\n",
            "Requirement already satisfied: numpy>=1.17 in /usr/local/lib/python3.10/dist-packages (from sacrebleu) (1.23.5)\n",
            "Requirement already satisfied: colorama in /usr/local/lib/python3.10/dist-packages (from sacrebleu) (0.4.6)\n",
            "Requirement already satisfied: lxml in /usr/local/lib/python3.10/dist-packages (from sacrebleu) (4.9.3)\n",
            "Requirement already satisfied: torch>=1.0.0 in /usr/local/lib/python3.10/dist-packages (from bert-score) (2.0.1+cu118)\n",
            "Requirement already satisfied: pandas>=1.0.1 in /usr/local/lib/python3.10/dist-packages (from bert-score) (1.5.3)\n",
            "Requirement already satisfied: transformers>=3.0.0 in /usr/local/lib/python3.10/dist-packages (from bert-score) (4.31.0)\n",
            "Requirement already satisfied: requests in /usr/local/lib/python3.10/dist-packages (from bert-score) (2.31.0)\n",
            "Requirement already satisfied: tqdm>=4.31.1 in /usr/local/lib/python3.10/dist-packages (from bert-score) (4.66.1)\n",
            "Requirement already satisfied: matplotlib in /usr/local/lib/python3.10/dist-packages (from bert-score) (3.7.1)\n",
            "Requirement already satisfied: packaging>=20.9 in /usr/local/lib/python3.10/dist-packages (from bert-score) (23.1)\n",
            "Requirement already satisfied: python-dateutil>=2.8.1 in /usr/local/lib/python3.10/dist-packages (from pandas>=1.0.1->bert-score) (2.8.2)\n",
            "Requirement already satisfied: pytz>=2020.1 in /usr/local/lib/python3.10/dist-packages (from pandas>=1.0.1->bert-score) (2023.3)\n",
            "Requirement already satisfied: filelock in /usr/local/lib/python3.10/dist-packages (from torch>=1.0.0->bert-score) (3.12.2)\n",
            "Requirement already satisfied: typing-extensions in /usr/local/lib/python3.10/dist-packages (from torch>=1.0.0->bert-score) (4.7.1)\n",
            "Requirement already satisfied: sympy in /usr/local/lib/python3.10/dist-packages (from torch>=1.0.0->bert-score) (1.12)\n",
            "Requirement already satisfied: networkx in /usr/local/lib/python3.10/dist-packages (from torch>=1.0.0->bert-score) (3.1)\n",
            "Requirement already satisfied: jinja2 in /usr/local/lib/python3.10/dist-packages (from torch>=1.0.0->bert-score) (3.1.2)\n",
            "Requirement already satisfied: triton==2.0.0 in /usr/local/lib/python3.10/dist-packages (from torch>=1.0.0->bert-score) (2.0.0)\n",
            "Requirement already satisfied: cmake in /usr/local/lib/python3.10/dist-packages (from triton==2.0.0->torch>=1.0.0->bert-score) (3.27.2)\n",
            "Requirement already satisfied: lit in /usr/local/lib/python3.10/dist-packages (from triton==2.0.0->torch>=1.0.0->bert-score) (16.0.6)\n",
            "Requirement already satisfied: huggingface-hub<1.0,>=0.14.1 in /usr/local/lib/python3.10/dist-packages (from transformers>=3.0.0->bert-score) (0.16.4)\n",
            "Requirement already satisfied: pyyaml>=5.1 in /usr/local/lib/python3.10/dist-packages (from transformers>=3.0.0->bert-score) (6.0.1)\n",
            "Requirement already satisfied: tokenizers!=0.11.3,<0.14,>=0.11.1 in /usr/local/lib/python3.10/dist-packages (from transformers>=3.0.0->bert-score) (0.13.3)\n",
            "Requirement already satisfied: safetensors>=0.3.1 in /usr/local/lib/python3.10/dist-packages (from transformers>=3.0.0->bert-score) (0.3.2)\n",
            "Requirement already satisfied: contourpy>=1.0.1 in /usr/local/lib/python3.10/dist-packages (from matplotlib->bert-score) (1.1.0)\n",
            "Requirement already satisfied: cycler>=0.10 in /usr/local/lib/python3.10/dist-packages (from matplotlib->bert-score) (0.11.0)\n",
            "Requirement already satisfied: fonttools>=4.22.0 in /usr/local/lib/python3.10/dist-packages (from matplotlib->bert-score) (4.42.0)\n",
            "Requirement already satisfied: kiwisolver>=1.0.1 in /usr/local/lib/python3.10/dist-packages (from matplotlib->bert-score) (1.4.4)\n",
            "Requirement already satisfied: pillow>=6.2.0 in /usr/local/lib/python3.10/dist-packages (from matplotlib->bert-score) (9.4.0)\n",
            "Requirement already satisfied: pyparsing>=2.3.1 in /usr/local/lib/python3.10/dist-packages (from matplotlib->bert-score) (3.1.1)\n",
            "Requirement already satisfied: charset-normalizer<4,>=2 in /usr/local/lib/python3.10/dist-packages (from requests->bert-score) (3.2.0)\n",
            "Requirement already satisfied: idna<4,>=2.5 in /usr/local/lib/python3.10/dist-packages (from requests->bert-score) (3.4)\n",
            "Requirement already satisfied: urllib3<3,>=1.21.1 in /usr/local/lib/python3.10/dist-packages (from requests->bert-score) (2.0.4)\n",
            "Requirement already satisfied: certifi>=2017.4.17 in /usr/local/lib/python3.10/dist-packages (from requests->bert-score) (2023.7.22)\n",
            "Requirement already satisfied: fsspec in /usr/local/lib/python3.10/dist-packages (from huggingface-hub<1.0,>=0.14.1->transformers>=3.0.0->bert-score) (2023.6.0)\n",
            "Requirement already satisfied: six>=1.5 in /usr/local/lib/python3.10/dist-packages (from python-dateutil>=2.8.1->pandas>=1.0.1->bert-score) (1.16.0)\n",
            "Requirement already satisfied: MarkupSafe>=2.0 in /usr/local/lib/python3.10/dist-packages (from jinja2->torch>=1.0.0->bert-score) (2.1.3)\n",
            "Requirement already satisfied: mpmath>=0.19 in /usr/local/lib/python3.10/dist-packages (from sympy->torch>=1.0.0->bert-score) (1.3.0)\n"
          ]
        }
      ]
    },
    {
      "cell_type": "code",
      "source": [
        "!pip install transformers datasets\n",
        "\n",
        "#Both are for tokenizers\n",
        "\n"
      ],
      "metadata": {
        "colab": {
          "base_uri": "https://localhost:8080/"
        },
        "id": "k1jVX9Borre4",
        "outputId": "4509fc53-ef73-4213-cfd9-5c8cb06f9bda"
      },
      "execution_count": 14,
      "outputs": [
        {
          "output_type": "stream",
          "name": "stdout",
          "text": [
            "Requirement already satisfied: transformers in /usr/local/lib/python3.10/dist-packages (4.31.0)\n",
            "Requirement already satisfied: datasets in /usr/local/lib/python3.10/dist-packages (2.14.4)\n",
            "Requirement already satisfied: filelock in /usr/local/lib/python3.10/dist-packages (from transformers) (3.12.2)\n",
            "Requirement already satisfied: huggingface-hub<1.0,>=0.14.1 in /usr/local/lib/python3.10/dist-packages (from transformers) (0.16.4)\n",
            "Requirement already satisfied: numpy>=1.17 in /usr/local/lib/python3.10/dist-packages (from transformers) (1.23.5)\n",
            "Requirement already satisfied: packaging>=20.0 in /usr/local/lib/python3.10/dist-packages (from transformers) (23.1)\n",
            "Requirement already satisfied: pyyaml>=5.1 in /usr/local/lib/python3.10/dist-packages (from transformers) (6.0.1)\n",
            "Requirement already satisfied: regex!=2019.12.17 in /usr/local/lib/python3.10/dist-packages (from transformers) (2023.6.3)\n",
            "Requirement already satisfied: requests in /usr/local/lib/python3.10/dist-packages (from transformers) (2.31.0)\n",
            "Requirement already satisfied: tokenizers!=0.11.3,<0.14,>=0.11.1 in /usr/local/lib/python3.10/dist-packages (from transformers) (0.13.3)\n",
            "Requirement already satisfied: safetensors>=0.3.1 in /usr/local/lib/python3.10/dist-packages (from transformers) (0.3.2)\n",
            "Requirement already satisfied: tqdm>=4.27 in /usr/local/lib/python3.10/dist-packages (from transformers) (4.66.1)\n",
            "Requirement already satisfied: pyarrow>=8.0.0 in /usr/local/lib/python3.10/dist-packages (from datasets) (9.0.0)\n",
            "Requirement already satisfied: dill<0.3.8,>=0.3.0 in /usr/local/lib/python3.10/dist-packages (from datasets) (0.3.7)\n",
            "Requirement already satisfied: pandas in /usr/local/lib/python3.10/dist-packages (from datasets) (1.5.3)\n",
            "Requirement already satisfied: xxhash in /usr/local/lib/python3.10/dist-packages (from datasets) (3.3.0)\n",
            "Requirement already satisfied: multiprocess in /usr/local/lib/python3.10/dist-packages (from datasets) (0.70.15)\n",
            "Requirement already satisfied: fsspec[http]>=2021.11.1 in /usr/local/lib/python3.10/dist-packages (from datasets) (2023.6.0)\n",
            "Requirement already satisfied: aiohttp in /usr/local/lib/python3.10/dist-packages (from datasets) (3.8.5)\n",
            "Requirement already satisfied: attrs>=17.3.0 in /usr/local/lib/python3.10/dist-packages (from aiohttp->datasets) (23.1.0)\n",
            "Requirement already satisfied: charset-normalizer<4.0,>=2.0 in /usr/local/lib/python3.10/dist-packages (from aiohttp->datasets) (3.2.0)\n",
            "Requirement already satisfied: multidict<7.0,>=4.5 in /usr/local/lib/python3.10/dist-packages (from aiohttp->datasets) (6.0.4)\n",
            "Requirement already satisfied: async-timeout<5.0,>=4.0.0a3 in /usr/local/lib/python3.10/dist-packages (from aiohttp->datasets) (4.0.3)\n",
            "Requirement already satisfied: yarl<2.0,>=1.0 in /usr/local/lib/python3.10/dist-packages (from aiohttp->datasets) (1.9.2)\n",
            "Requirement already satisfied: frozenlist>=1.1.1 in /usr/local/lib/python3.10/dist-packages (from aiohttp->datasets) (1.4.0)\n",
            "Requirement already satisfied: aiosignal>=1.1.2 in /usr/local/lib/python3.10/dist-packages (from aiohttp->datasets) (1.3.1)\n",
            "Requirement already satisfied: typing-extensions>=3.7.4.3 in /usr/local/lib/python3.10/dist-packages (from huggingface-hub<1.0,>=0.14.1->transformers) (4.7.1)\n",
            "Requirement already satisfied: idna<4,>=2.5 in /usr/local/lib/python3.10/dist-packages (from requests->transformers) (3.4)\n",
            "Requirement already satisfied: urllib3<3,>=1.21.1 in /usr/local/lib/python3.10/dist-packages (from requests->transformers) (2.0.4)\n",
            "Requirement already satisfied: certifi>=2017.4.17 in /usr/local/lib/python3.10/dist-packages (from requests->transformers) (2023.7.22)\n",
            "Requirement already satisfied: python-dateutil>=2.8.1 in /usr/local/lib/python3.10/dist-packages (from pandas->datasets) (2.8.2)\n",
            "Requirement already satisfied: pytz>=2020.1 in /usr/local/lib/python3.10/dist-packages (from pandas->datasets) (2023.3)\n",
            "Requirement already satisfied: six>=1.5 in /usr/local/lib/python3.10/dist-packages (from python-dateutil>=2.8.1->pandas->datasets) (1.16.0)\n"
          ]
        }
      ]
    },
    {
      "cell_type": "code",
      "source": [
        "! pip install sacremoses\n"
      ],
      "metadata": {
        "colab": {
          "base_uri": "https://localhost:8080/"
        },
        "id": "Bj6iGdWo8dtL",
        "outputId": "21a19773-0cb8-4596-8cc9-02c6edeb8e36"
      },
      "execution_count": 15,
      "outputs": [
        {
          "output_type": "stream",
          "name": "stdout",
          "text": [
            "Requirement already satisfied: sacremoses in /usr/local/lib/python3.10/dist-packages (0.0.53)\n",
            "Requirement already satisfied: regex in /usr/local/lib/python3.10/dist-packages (from sacremoses) (2023.6.3)\n",
            "Requirement already satisfied: six in /usr/local/lib/python3.10/dist-packages (from sacremoses) (1.16.0)\n",
            "Requirement already satisfied: click in /usr/local/lib/python3.10/dist-packages (from sacremoses) (8.1.6)\n",
            "Requirement already satisfied: joblib in /usr/local/lib/python3.10/dist-packages (from sacremoses) (1.3.2)\n",
            "Requirement already satisfied: tqdm in /usr/local/lib/python3.10/dist-packages (from sacremoses) (4.66.1)\n"
          ]
        }
      ]
    },
    {
      "cell_type": "code",
      "source": [
        "! pip install sentencepiece"
      ],
      "metadata": {
        "colab": {
          "base_uri": "https://localhost:8080/"
        },
        "id": "jEFIoLwl8caG",
        "outputId": "7d17780d-d838-4e40-f737-4a034e1d01f7"
      },
      "execution_count": 16,
      "outputs": [
        {
          "output_type": "stream",
          "name": "stdout",
          "text": [
            "Requirement already satisfied: sentencepiece in /usr/local/lib/python3.10/dist-packages (0.1.99)\n"
          ]
        }
      ]
    },
    {
      "cell_type": "code",
      "execution_count": 17,
      "metadata": {
        "id": "s4rbt9IOrlV4"
      },
      "outputs": [],
      "source": [
        "from datasets import load_dataset"
      ]
    },
    {
      "cell_type": "markdown",
      "source": [
        "## Load Dataset"
      ],
      "metadata": {
        "id": "C6vCB3Qcrq3j"
      }
    },
    {
      "cell_type": "code",
      "source": [
        "\n",
        "data = load_dataset(\"kde4\", lang1=\"en\", lang2=\"fr\")"
      ],
      "metadata": {
        "id": "X16QFGB_r4No"
      },
      "execution_count": 18,
      "outputs": []
    },
    {
      "cell_type": "code",
      "source": [
        "data"
      ],
      "metadata": {
        "colab": {
          "base_uri": "https://localhost:8080/"
        },
        "id": "A1AWBgSAr_RT",
        "outputId": "ff869595-8efd-4aad-d82b-7e6e4e8f0dee"
      },
      "execution_count": 19,
      "outputs": [
        {
          "output_type": "execute_result",
          "data": {
            "text/plain": [
              "DatasetDict({\n",
              "    train: Dataset({\n",
              "        features: ['id', 'translation'],\n",
              "        num_rows: 210173\n",
              "    })\n",
              "})"
            ]
          },
          "metadata": {},
          "execution_count": 19
        }
      ]
    },
    {
      "cell_type": "code",
      "source": [
        "### Selecting 1000 random samples\n",
        "small = data[\"train\"].shuffle(seed=42).select(range(1_000))"
      ],
      "metadata": {
        "id": "JAgF5OiwsQ08"
      },
      "execution_count": 20,
      "outputs": []
    },
    {
      "cell_type": "code",
      "source": [
        "split = small.train_test_split(seed=42)"
      ],
      "metadata": {
        "id": "ZkP43HS_sY6f"
      },
      "execution_count": 21,
      "outputs": []
    },
    {
      "cell_type": "code",
      "source": [
        "split[\"train\"][1]"
      ],
      "metadata": {
        "colab": {
          "base_uri": "https://localhost:8080/"
        },
        "id": "E-m__1Z-sK1H",
        "outputId": "a95c83f5-cff2-4d58-b854-15a78d07c3a1"
      },
      "execution_count": 22,
      "outputs": [
        {
          "output_type": "execute_result",
          "data": {
            "text/plain": [
              "{'id': '47571', 'translation': {'en': 'KDE', 'fr': 'KDE'}}"
            ]
          },
          "metadata": {},
          "execution_count": 22
        }
      ]
    },
    {
      "cell_type": "markdown",
      "source": [
        "### Our dataset contains 2 columns:\n",
        "\n",
        "* ID - of no use\n",
        "* Transalation"
      ],
      "metadata": {
        "id": "CDGH-hMQseE8"
      }
    },
    {
      "cell_type": "markdown",
      "source": [
        "### How to Preprocess the Data"
      ],
      "metadata": {
        "id": "LBMj0PAPs1om"
      }
    },
    {
      "cell_type": "markdown",
      "source": [
        "* We need to use 2 seperate tokenizer: Both yes & No\n",
        "* Yes, Since there must e seperate tokenizer for each language\n",
        "* No, Because they are both stored in the same tokenizer in the hugging face liabrary"
      ],
      "metadata": {
        "id": "kaFz5RWgs6Gk"
      }
    },
    {
      "cell_type": "code",
      "source": [
        "from transformers import AutoTokenizer\n",
        "\n",
        "checkpoint = \"Helsinki-NLP/opus-mt-en-fr\"\n",
        "tokenizer = AutoTokenizer.from_pretrained(checkpoint)"
      ],
      "metadata": {
        "id": "qZ2dhu0_sx8a"
      },
      "execution_count": 23,
      "outputs": []
    },
    {
      "cell_type": "code",
      "source": [
        "# Both are for tokenizers\n",
        "# ! pip install sacremoses\n",
        "\n",
        "# ! pip install sentencepiece"
      ],
      "metadata": {
        "id": "PY_HDhaGuJ83"
      },
      "execution_count": 24,
      "outputs": []
    },
    {
      "cell_type": "code",
      "source": [
        "en = split['train'][5]['translation']['en']\n",
        "fr = split['test'][5]['translation']['fr']\n",
        "en,fr"
      ],
      "metadata": {
        "colab": {
          "base_uri": "https://localhost:8080/"
        },
        "id": "NIJMWmOeywZJ",
        "outputId": "392798c6-7dd0-4fb0-fbc3-83c7d0a0c1c5"
      },
      "execution_count": 25,
      "outputs": [
        {
          "output_type": "execute_result",
          "data": {
            "text/plain": [
              "('You can either pick a file or enter its name in the Location: box.',\n",
              " \"Extenseur & #160;: argument incorrect à « & #160; Nombre & #160; » & #160;: %1 n'est pas un spécificateur d'élément valable\")"
            ]
          },
          "metadata": {},
          "execution_count": 25
        }
      ]
    },
    {
      "cell_type": "markdown",
      "source": [
        "#### To tokenize the input"
      ],
      "metadata": {
        "id": "1z-CcdlsvRIT"
      }
    },
    {
      "cell_type": "code",
      "source": [
        "split"
      ],
      "metadata": {
        "colab": {
          "base_uri": "https://localhost:8080/"
        },
        "id": "9PBq3BvEy9g4",
        "outputId": "5cd3a4f8-533a-45a3-9915-715b15e38e9c"
      },
      "execution_count": 26,
      "outputs": [
        {
          "output_type": "execute_result",
          "data": {
            "text/plain": [
              "DatasetDict({\n",
              "    train: Dataset({\n",
              "        features: ['id', 'translation'],\n",
              "        num_rows: 750\n",
              "    })\n",
              "    test: Dataset({\n",
              "        features: ['id', 'translation'],\n",
              "        num_rows: 250\n",
              "    })\n",
              "})"
            ]
          },
          "metadata": {},
          "execution_count": 26
        }
      ]
    },
    {
      "cell_type": "code",
      "source": [
        "inputs = tokenizer(en)"
      ],
      "metadata": {
        "id": "r8tTWYLXu7JA"
      },
      "execution_count": 27,
      "outputs": []
    },
    {
      "cell_type": "code",
      "source": [
        "en"
      ],
      "metadata": {
        "colab": {
          "base_uri": "https://localhost:8080/",
          "height": 36
        },
        "id": "mHig8BqEzfZP",
        "outputId": "a2c09e98-2253-4c01-fae0-bf01d366836c"
      },
      "execution_count": 28,
      "outputs": [
        {
          "output_type": "execute_result",
          "data": {
            "text/plain": [
              "'You can either pick a file or enter its name in the Location: box.'"
            ],
            "application/vnd.google.colaboratory.intrinsic+json": {
              "type": "string"
            }
          },
          "metadata": {},
          "execution_count": 28
        }
      ]
    },
    {
      "cell_type": "code",
      "source": [
        "inputs"
      ],
      "metadata": {
        "colab": {
          "base_uri": "https://localhost:8080/"
        },
        "id": "s4IJPf73zY2B",
        "outputId": "0280cd5e-6ac6-4a9e-ee32-50e933ccb7e7"
      },
      "execution_count": 29,
      "outputs": [
        {
          "output_type": "execute_result",
          "data": {
            "text/plain": [
              "{'input_ids': [213, 115, 1828, 8437, 15, 1437, 57, 3307, 96, 1129, 18, 4, 4577, 37, 5311, 3, 0], 'attention_mask': [1, 1, 1, 1, 1, 1, 1, 1, 1, 1, 1, 1, 1, 1, 1, 1, 1]}"
            ]
          },
          "metadata": {},
          "execution_count": 29
        }
      ]
    },
    {
      "cell_type": "markdown",
      "source": [
        "#### To tokenize the target we need to use something called THE CONTEXT MANAGER"
      ],
      "metadata": {
        "id": "mPyw1zAuvaYW"
      }
    },
    {
      "cell_type": "code",
      "source": [
        "### Old method:\n",
        "# with tokenizer.as_target_tokenizer():\n",
        "#     targets = tokenizer(fr)\n",
        "\n",
        "### New method:\n",
        "targets = tokenizer(text_target=fr)"
      ],
      "metadata": {
        "id": "HaAmWIo-viaj"
      },
      "execution_count": 30,
      "outputs": []
    },
    {
      "cell_type": "code",
      "source": [
        "targets"
      ],
      "metadata": {
        "colab": {
          "base_uri": "https://localhost:8080/"
        },
        "id": "sd2IibVPzYAA",
        "outputId": "a8c7164c-9ad3-423d-9ab5-4682a3ec4b83"
      },
      "execution_count": 31,
      "outputs": [
        {
          "output_type": "execute_result",
          "data": {
            "text/plain": [
              "{'input_ids': [3453, 6867, 1547, 402, 38492, 7735, 20556, 17, 153, 402, 29033, 4322, 402, 29033, 416, 402, 38492, 301, 548, 81, 6, 82, 53, 34, 7608, 12319, 18458, 20, 6, 12039, 12679, 0], 'attention_mask': [1, 1, 1, 1, 1, 1, 1, 1, 1, 1, 1, 1, 1, 1, 1, 1, 1, 1, 1, 1, 1, 1, 1, 1, 1, 1, 1, 1, 1, 1, 1, 1]}"
            ]
          },
          "metadata": {},
          "execution_count": 31
        }
      ]
    },
    {
      "cell_type": "code",
      "source": [
        "tokenizer.convert_ids_to_tokens(inputs['input_ids'])"
      ],
      "metadata": {
        "colab": {
          "base_uri": "https://localhost:8080/"
        },
        "id": "bu4NNBnSzey-",
        "outputId": "623b65bf-4cc0-4542-abcf-9bc6b7690067"
      },
      "execution_count": 32,
      "outputs": [
        {
          "output_type": "execute_result",
          "data": {
            "text/plain": [
              "['▁You',\n",
              " '▁can',\n",
              " '▁either',\n",
              " '▁pick',\n",
              " '▁a',\n",
              " '▁file',\n",
              " '▁or',\n",
              " '▁enter',\n",
              " '▁its',\n",
              " '▁name',\n",
              " '▁in',\n",
              " '▁the',\n",
              " '▁Location',\n",
              " ':',\n",
              " '▁box',\n",
              " '.',\n",
              " '</s>']"
            ]
          },
          "metadata": {},
          "execution_count": 32
        }
      ]
    },
    {
      "cell_type": "markdown",
      "source": [
        "#### Note:\n",
        "* No CLS and SEP tokens(this is for BERT)\n",
        "* we have tokens which ends with </s>\n",
        "* No ## for subsequent subwords, each new word starts with _ and subsequent subwords have no prefix"
      ],
      "metadata": {
        "id": "KNAvE8LhwQjg"
      }
    },
    {
      "cell_type": "code",
      "source": [
        "\n",
        "import matplotlib.pyplot as plt\n",
        "\n",
        "train = split['train']['translation']\n",
        "input_lens = [len(tr['en']) for tr in train]\n",
        "\n",
        "plt.hist(input_lens, bins=50);"
      ],
      "metadata": {
        "colab": {
          "base_uri": "https://localhost:8080/",
          "height": 430
        },
        "id": "qB2woIDK02Mx",
        "outputId": "0e1571b3-75c1-48ec-989a-c490cd0e6e8c"
      },
      "execution_count": 33,
      "outputs": [
        {
          "output_type": "display_data",
          "data": {
            "text/plain": [
              "<Figure size 640x480 with 1 Axes>"
            ],
            "image/png": "[encoded data removed]"
          },
          "metadata": {}
        }
      ]
    },
    {
      "cell_type": "code",
      "source": [
        "target_lens = [len(tr['fr']) for tr in train]\n",
        "plt.hist(target_lens, bins=50);"
      ],
      "metadata": {
        "colab": {
          "base_uri": "https://localhost:8080/",
          "height": 430
        },
        "id": "nxIrgDd3B5dZ",
        "outputId": "d74c01ec-eec8-44f3-a68a-dc49ce6ab916"
      },
      "execution_count": 34,
      "outputs": [
        {
          "output_type": "display_data",
          "data": {
            "text/plain": [
              "<Figure size 640x480 with 1 Axes>"
            ],
            "image/png": "[encoded data removed]"
          },
          "metadata": {}
        }
      ]
    },
    {
      "cell_type": "markdown",
      "source": [
        "### Tokenization\n",
        "\n",
        "* Inputs and Targets will be of different length"
      ],
      "metadata": {
        "id": "ZpVMu8TIE-5-"
      }
    },
    {
      "cell_type": "code",
      "source": [
        "max_input_len = 128\n",
        "max_target_len = 128\n",
        "def tokenized_fn(batch):\n",
        "    inputs =[x['en'] for x in batch['translation']]\n",
        "    targets = [x['fr'] for x in batch['translation']]\n",
        "\n",
        "    tokenized_inputs = tokenizer(\n",
        "        inputs, max_length = max_input_len, truncation=True\n",
        "    )\n",
        "\n",
        "    tokenized_targets = tokenizer(text_target=targets,\n",
        "                                  max_length = max_target_len,\n",
        "                                  truncation=True)\n",
        "\n",
        "    tokenized_inputs['labels'] = tokenized_targets['input_ids']\n",
        "\n",
        "    return tokenized_inputs"
      ],
      "metadata": {
        "id": "Bb8Aizd7B9xz"
      },
      "execution_count": 35,
      "outputs": []
    },
    {
      "cell_type": "code",
      "source": [
        "split"
      ],
      "metadata": {
        "colab": {
          "base_uri": "https://localhost:8080/"
        },
        "id": "KUNnzmIkOGo9",
        "outputId": "4feb83be-19e7-438b-dc0e-7660f19ab7f3"
      },
      "execution_count": 36,
      "outputs": [
        {
          "output_type": "execute_result",
          "data": {
            "text/plain": [
              "DatasetDict({\n",
              "    train: Dataset({\n",
              "        features: ['id', 'translation'],\n",
              "        num_rows: 750\n",
              "    })\n",
              "    test: Dataset({\n",
              "        features: ['id', 'translation'],\n",
              "        num_rows: 250\n",
              "    })\n",
              "})"
            ]
          },
          "metadata": {},
          "execution_count": 36
        }
      ]
    },
    {
      "cell_type": "code",
      "source": [
        "tokenized_datasets = split.map(\n",
        "    tokenized_fn,\n",
        "    batched=True,\n",
        "    remove_columns=split['train'].column_names,\n",
        "\n",
        ")"
      ],
      "metadata": {
        "id": "xHJtZLHFFt7H"
      },
      "execution_count": 37,
      "outputs": []
    },
    {
      "cell_type": "markdown",
      "source": [
        "### Modelling"
      ],
      "metadata": {
        "id": "TQzBtwRLF-B2"
      }
    },
    {
      "cell_type": "markdown",
      "source": [
        "* Translation is a \"Sequence to Sequence\" task.\n",
        "* Seq2Seq = Encoder + Decoder\n",
        "* Decoder = Language Model(LM)\n",
        "* Similar to generating text, except instead of completely random sentences,\n",
        "conditioned on encoder output.(Vector representation of input sentence, Context vector)\n",
        "\n"
      ],
      "metadata": {
        "id": "Zlw5AyJqGNZP"
      }
    },
    {
      "cell_type": "code",
      "source": [
        "from transformers import AutoModelForSeq2SeqLM\n",
        "\n",
        "model = AutoModelForSeq2SeqLM.from_pretrained(checkpoint)"
      ],
      "metadata": {
        "id": "P9Yjes1TGA4D"
      },
      "execution_count": 38,
      "outputs": []
    },
    {
      "cell_type": "markdown",
      "source": [
        "### Data Collator"
      ],
      "metadata": {
        "id": "GE1R4AAjGs6Z"
      }
    },
    {
      "cell_type": "markdown",
      "source": [
        "* New Datacollator for seq2seq.\n",
        "* We usually do all our data preprocessing before creating the model.But, here we are actually going to pass the model into datacollator.\n"
      ],
      "metadata": {
        "id": "m9-rdvXiG9Ub"
      }
    },
    {
      "cell_type": "code",
      "source": [
        "from transformers import DataCollatorForSeq2Seq\n",
        "data_collator = DataCollatorForSeq2Seq(tokenizer, model=model)"
      ],
      "metadata": {
        "id": "WaXqiIwpGupT"
      },
      "execution_count": 39,
      "outputs": []
    },
    {
      "cell_type": "code",
      "source": [],
      "metadata": {
        "id": "F54TdWW9WrHD"
      },
      "execution_count": 39,
      "outputs": []
    },
    {
      "cell_type": "markdown",
      "source": [
        "* The model is passed because we need to populate decoder input IDs"
      ],
      "metadata": {
        "id": "jfXVM-IdHPPI"
      }
    },
    {
      "cell_type": "markdown",
      "source": [
        "Need for a Data Collator:\n",
        "* Data collator does the Padding (per batch) and convert data to torch tensors\n",
        "* Additionaly here, as decoder itself is a NN, Decoder have input from Encoder(Context Vector) and inputs(shifted targets) predicted first output is fed as input to next decodet unit.\n",
        "* Decoder input ids are shifted version of the targets.\n",
        "\n"
      ],
      "metadata": {
        "id": "sPhUkgdIHcZV"
      }
    },
    {
      "cell_type": "markdown",
      "source": [
        "#### Checking Data Collator"
      ],
      "metadata": {
        "id": "dqRGltX0Qts-"
      }
    },
    {
      "cell_type": "code",
      "source": [
        "[tokenized_datasets['train'][i] for i in range(1,3)]"
      ],
      "metadata": {
        "colab": {
          "base_uri": "https://localhost:8080/"
        },
        "id": "DZSpDrPiQywL",
        "outputId": "4817a99e-1447-42e4-e9b1-e13ff2135e0e"
      },
      "execution_count": 40,
      "outputs": [
        {
          "output_type": "execute_result",
          "data": {
            "text/plain": [
              "[{'input_ids': [526, 3261, 0],\n",
              "  'attention_mask': [1, 1, 1],\n",
              "  'labels': [526, 3261, 0]},\n",
              " {'input_ids': [3492,\n",
              "   3070,\n",
              "   6443,\n",
              "   37,\n",
              "   443,\n",
              "   61,\n",
              "   32,\n",
              "   317,\n",
              "   2203,\n",
              "   4824,\n",
              "   514,\n",
              "   1807,\n",
              "   971,\n",
              "   4,\n",
              "   4124,\n",
              "   3,\n",
              "   0],\n",
              "  'attention_mask': [1, 1, 1, 1, 1, 1, 1, 1, 1, 1, 1, 1, 1, 1, 1, 1, 1],\n",
              "  'labels': [34023,\n",
              "   5,\n",
              "   3948,\n",
              "   5,\n",
              "   372,\n",
              "   402,\n",
              "   38492,\n",
              "   350,\n",
              "   823,\n",
              "   95,\n",
              "   13439,\n",
              "   2,\n",
              "   25985,\n",
              "   14,\n",
              "   6,\n",
              "   3996,\n",
              "   3,\n",
              "   0]}]"
            ]
          },
          "metadata": {},
          "execution_count": 40
        }
      ]
    },
    {
      "cell_type": "code",
      "source": [
        "batch = data_collator([tokenized_datasets[\"train\"][i] for i in range(0,2)])"
      ],
      "metadata": {
        "id": "YT7FM_i0RBip"
      },
      "execution_count": 41,
      "outputs": []
    },
    {
      "cell_type": "code",
      "source": [
        "batch.keys()"
      ],
      "metadata": {
        "colab": {
          "base_uri": "https://localhost:8080/"
        },
        "id": "LL3gT-hbXwfT",
        "outputId": "a8ad8a92-3461-4d9a-bb75-63b88f309c81"
      },
      "execution_count": 42,
      "outputs": [
        {
          "output_type": "execute_result",
          "data": {
            "text/plain": [
              "dict_keys(['input_ids', 'attention_mask', 'labels', 'decoder_input_ids'])"
            ]
          },
          "metadata": {},
          "execution_count": 42
        }
      ]
    },
    {
      "cell_type": "markdown",
      "source": [
        "* We have one extra column called decoder_input_ids"
      ],
      "metadata": {
        "id": "0GD7rb8NXxNP"
      }
    },
    {
      "cell_type": "code",
      "source": [
        "tokenized_datasets[\"train\"][:2][\"labels\"]"
      ],
      "metadata": {
        "colab": {
          "base_uri": "https://localhost:8080/"
        },
        "id": "5RpIe5uhefoQ",
        "outputId": "35af3083-72f0-4e54-cb6e-7aa2c4e96bb1"
      },
      "execution_count": 43,
      "outputs": [
        {
          "output_type": "execute_result",
          "data": {
            "text/plain": [
              "[[402, 9950, 108, 2240, 14, 6, 38367, 13218, 0], [526, 3261, 0]]"
            ]
          },
          "metadata": {},
          "execution_count": 43
        }
      ]
    },
    {
      "cell_type": "code",
      "source": [
        "batch[\"labels\"]"
      ],
      "metadata": {
        "colab": {
          "base_uri": "https://localhost:8080/"
        },
        "id": "qULf-kQbeYaN",
        "outputId": "465e47ba-814f-4c68-be11-03f4b7bfc2b5"
      },
      "execution_count": 44,
      "outputs": [
        {
          "output_type": "execute_result",
          "data": {
            "text/plain": [
              "tensor([[  402,  9950,   108,  2240,    14,     6, 38367, 13218,     0],\n",
              "        [  526,  3261,     0,  -100,  -100,  -100,  -100,  -100,  -100]])"
            ]
          },
          "metadata": {},
          "execution_count": 44
        }
      ]
    },
    {
      "cell_type": "code",
      "source": [
        "batch[\"decoder_input_ids\"]"
      ],
      "metadata": {
        "colab": {
          "base_uri": "https://localhost:8080/"
        },
        "id": "-bHHpQtBebn8",
        "outputId": "da9c96c4-4f3d-44ba-b039-800bd4318f2f"
      },
      "execution_count": 45,
      "outputs": [
        {
          "output_type": "execute_result",
          "data": {
            "text/plain": [
              "tensor([[59513,   402,  9950,   108,  2240,    14,     6, 38367, 13218],\n",
              "        [59513,   526,  3261,     0, 59513, 59513, 59513, 59513, 59513]])"
            ]
          },
          "metadata": {},
          "execution_count": 45
        }
      ]
    },
    {
      "cell_type": "code",
      "source": [
        "split['train'][25]['translation']"
      ],
      "metadata": {
        "colab": {
          "base_uri": "https://localhost:8080/"
        },
        "id": "IM5h31bYetLp",
        "outputId": "e91306da-77e7-4616-9479-e9094e3fa257"
      },
      "execution_count": 46,
      "outputs": [
        {
          "output_type": "execute_result",
          "data": {
            "text/plain": [
              "{'en': 'Netscape Communicator reg; plugins (for viewing Flash reg;, Real reg; Audio, Real reg; Video, etc.)',\n",
              " 'fr': 'Netscape Communicator reg; modules externes (pour afficher Flash reg;, Real reg; Audio, Real reg; Video, etc.)'}"
            ]
          },
          "metadata": {},
          "execution_count": 46
        }
      ]
    },
    {
      "cell_type": "code",
      "source": [
        "split"
      ],
      "metadata": {
        "colab": {
          "base_uri": "https://localhost:8080/"
        },
        "id": "JjSwZd1QfLJX",
        "outputId": "ddd84c90-e1af-4242-e8ef-0a239371977f"
      },
      "execution_count": 47,
      "outputs": [
        {
          "output_type": "execute_result",
          "data": {
            "text/plain": [
              "DatasetDict({\n",
              "    train: Dataset({\n",
              "        features: ['id', 'translation'],\n",
              "        num_rows: 750\n",
              "    })\n",
              "    test: Dataset({\n",
              "        features: ['id', 'translation'],\n",
              "        num_rows: 250\n",
              "    })\n",
              "})"
            ]
          },
          "metadata": {},
          "execution_count": 47
        }
      ]
    },
    {
      "cell_type": "markdown",
      "source": [
        "### Decoder input id are shifted version of Targets"
      ],
      "metadata": {
        "id": "2wy64Cz98rm_"
      }
    },
    {
      "cell_type": "code",
      "source": [
        "tokenizer.convert_ids_to_tokens(batch['labels'][1])"
      ],
      "metadata": {
        "colab": {
          "base_uri": "https://localhost:8080/"
        },
        "id": "4fn8NJ8z8p5U",
        "outputId": "13aa694d-7918-458e-b9fd-da4923da9f19"
      },
      "execution_count": 48,
      "outputs": [
        {
          "output_type": "execute_result",
          "data": {
            "text/plain": [
              "['▁K', 'DE', '</s>', '<unk>', '<unk>', '<unk>', '<unk>', '<unk>', '<unk>']"
            ]
          },
          "metadata": {},
          "execution_count": 48
        }
      ]
    },
    {
      "cell_type": "code",
      "source": [
        "tokenizer.convert_ids_to_tokens(batch['decoder_input_ids'][1])"
      ],
      "metadata": {
        "colab": {
          "base_uri": "https://localhost:8080/"
        },
        "id": "FiAWZfuAfcET",
        "outputId": "beeeb38b-4b4a-4d86-8abf-12683cdf8bea"
      },
      "execution_count": 49,
      "outputs": [
        {
          "output_type": "execute_result",
          "data": {
            "text/plain": [
              "['<pad>', '▁K', 'DE', '</s>', '<pad>', '<pad>', '<pad>', '<pad>', '<pad>']"
            ]
          },
          "metadata": {},
          "execution_count": 49
        }
      ]
    },
    {
      "cell_type": "markdown",
      "source": [
        "## Evaluation"
      ],
      "metadata": {
        "id": "-uuN9ETK9Bfy"
      }
    },
    {
      "cell_type": "markdown",
      "source": [
        "Why we need different metrics for transalation task?\n",
        "\n",
        "* Different sentences can mean the same thing. ie one sentences be transalated in different ways\n",
        "* More than one valid translation\n",
        "* BLEU score looks at n-grams (subsequences of size n)\n",
        "* Best Score over each reference is chosen"
      ],
      "metadata": {
        "id": "BAFTe_qG9Dpu"
      }
    },
    {
      "cell_type": "code",
      "source": [
        "from datasets import load_metric\n",
        "\n",
        "bleu_metric = load_metric(\"sacrebleu\")\n",
        "bert_metric = load_metric(\"bertscore\")"
      ],
      "metadata": {
        "colab": {
          "base_uri": "https://localhost:8080/"
        },
        "id": "1z9TIGBH7Lm3",
        "outputId": "b83853e3-6475-4a69-f344-056d042b3d9b"
      },
      "execution_count": 50,
      "outputs": [
        {
          "output_type": "stream",
          "name": "stderr",
          "text": [
            "<ipython-input-50-ec0ba0363219>:3: FutureWarning: load_metric is deprecated and will be removed in the next major version of datasets. Use 'evaluate.load' instead, from the new library 🤗 Evaluate: https://huggingface.co/docs/evaluate\n",
            "  bleu_metric = load_metric(\"sacrebleu\")\n"
          ]
        }
      ]
    },
    {
      "cell_type": "code",
      "source": [
        "bleu_metric.compute(predictions=[\"I love cats\"], references=[['I love cats']])"
      ],
      "metadata": {
        "colab": {
          "base_uri": "https://localhost:8080/"
        },
        "id": "2rwJAD6B8J3C",
        "outputId": "97aac556-e704-4d55-a3ed-3379cc2cf463"
      },
      "execution_count": 51,
      "outputs": [
        {
          "output_type": "execute_result",
          "data": {
            "text/plain": [
              "{'score': 0.0,\n",
              " 'counts': [3, 2, 1, 0],\n",
              " 'totals': [3, 2, 1, 0],\n",
              " 'precisions': [100.0, 100.0, 100.0, 0.0],\n",
              " 'bp': 1.0,\n",
              " 'sys_len': 3,\n",
              " 'ref_len': 3}"
            ]
          },
          "metadata": {},
          "execution_count": 51
        }
      ]
    },
    {
      "cell_type": "markdown",
      "source": [
        "* Score is 0 because it does not work with short sentences"
      ],
      "metadata": {
        "id": "8zJI81vN2yw7"
      }
    },
    {
      "cell_type": "code",
      "source": [
        "s =\"Marian is an effecient NMT framework written in pure C++\""
      ],
      "metadata": {
        "id": "Dii91LrH0JKj"
      },
      "execution_count": 52,
      "outputs": []
    },
    {
      "cell_type": "code",
      "source": [
        "bleu_metric.compute(predictions=[s], references=[[s]])"
      ],
      "metadata": {
        "colab": {
          "base_uri": "https://localhost:8080/"
        },
        "id": "6ZV2G7Sd0oqf",
        "outputId": "49d0b196-e96c-4f5d-c114-304870211ddd"
      },
      "execution_count": 53,
      "outputs": [
        {
          "output_type": "execute_result",
          "data": {
            "text/plain": [
              "{'score': 100.00000000000004,\n",
              " 'counts': [12, 11, 10, 9],\n",
              " 'totals': [12, 11, 10, 9],\n",
              " 'precisions': [100.0, 100.0, 100.0, 100.0],\n",
              " 'bp': 1.0,\n",
              " 'sys_len': 12,\n",
              " 'ref_len': 12}"
            ]
          },
          "metadata": {},
          "execution_count": 53
        }
      ]
    },
    {
      "cell_type": "markdown",
      "source": [
        "* Score is 100 instead of 1"
      ],
      "metadata": {
        "id": "qiox_4iW0w75"
      }
    },
    {
      "cell_type": "markdown",
      "source": [
        "* Bleu score compares n grams?"
      ],
      "metadata": {
        "id": "I2R6U3W33Hc6"
      }
    },
    {
      "cell_type": "code",
      "source": [
        "bert_metric.compute(\n",
        "    predictions=['I love cats'], references=[[\"I like cats\",\"I hate cats\"]], lang=\"en\"\n",
        ")"
      ],
      "metadata": {
        "colab": {
          "base_uri": "https://localhost:8080/"
        },
        "id": "5kxADoS032k8",
        "outputId": "6f046055-50e8-4cbc-d3a9-aca96b84d73b"
      },
      "execution_count": 54,
      "outputs": [
        {
          "output_type": "stream",
          "name": "stderr",
          "text": [
            "Some weights of RobertaModel were not initialized from the model checkpoint at roberta-large and are newly initialized: ['roberta.pooler.dense.weight', 'roberta.pooler.dense.bias']\n",
            "You should probably TRAIN this model on a down-stream task to be able to use it for predictions and inference.\n"
          ]
        },
        {
          "output_type": "execute_result",
          "data": {
            "text/plain": [
              "{'precision': [0.9803369641304016],\n",
              " 'recall': [0.9803369641304016],\n",
              " 'f1': [0.9803369641304016],\n",
              " 'hashcode': 'roberta-large_L17_no-idf_version=0.3.12(hug_trans=4.31.0)'}"
            ]
          },
          "metadata": {},
          "execution_count": 54
        }
      ]
    },
    {
      "cell_type": "code",
      "source": [
        "import numpy as np"
      ],
      "metadata": {
        "id": "f9DrBQmf4D78"
      },
      "execution_count": 55,
      "outputs": []
    },
    {
      "cell_type": "code",
      "source": [
        "def compute_metrics(preds_and_labels):\n",
        "    preds,labels = preds_and_labels\n",
        "    decoded_preds = tokenizer.batch_decode(preds,skip_special_tokens=True)\n",
        "    labels = np.where(labels!=-100, labels,tokenizer.pad_token_id)\n",
        "    decoded_labels =tokenizer.batch_decode(labels,skip_special_tokens=True)\n",
        "    #print(decoded_labels)\n",
        "\n",
        "    decoder_preds =[preds.strip() for preds in decoded_preds]\n",
        "    decoder_labels= [[label.strip()] for label in decoded_labels]\n",
        "    #print(decoder_preds)\n",
        "    #print(decoder_labels)\n",
        "    bleu = bleu_metric.compute(\n",
        "        predictions = decoder_preds,\n",
        "        references = decoder_labels\n",
        "    )\n",
        "    bert = bert_metric.compute(\n",
        "        predictions = decoder_preds,\n",
        "        references = decoder_labels,\n",
        "        lang=\"fr\"\n",
        "    )\n",
        "\n",
        "    return {'bleu': bleu,\n",
        "            'bert': np.mean(bert['f1']) }"
      ],
      "metadata": {
        "id": "7ngcC5q-5bv2"
      },
      "execution_count": 109,
      "outputs": []
    },
    {
      "cell_type": "code",
      "source": [
        "from transformers import Seq2SeqTrainingArguments\n",
        "\n",
        "training_args = Seq2SeqTrainingArguments(\n",
        "    \"finetuned-Model\",\n",
        "    evaluation_strategy =\"no\",# Its time consuming so setting up no\n",
        "    save_strategy = \"epoch\",\n",
        "    learning_rate=2e-5,\n",
        "    per_device_eval_batch_size=64,\n",
        "    per_device_train_batch_size=32,\n",
        "    weight_decay = 0.01,\n",
        "    num_train_epochs=3,\n",
        "    predict_with_generate=True,\n",
        "    #During Evaluation, generate predictions without knowing true targets\n",
        "    #fed into devoder\n",
        "    fp16 = True, #We use 32 bits to store floating point numbers,\n",
        "    ## So all the weights take up half as much space(normally 32-bit). Even with this, you might run out of GPU ram.\n",
        ")"
      ],
      "metadata": {
        "id": "YiZtpXRN6hZu"
      },
      "execution_count": 110,
      "outputs": []
    },
    {
      "cell_type": "code",
      "source": [
        "from transformers import Seq2SeqTrainingArguments\n",
        "\n",
        "training_args = Seq2SeqTrainingArguments(\n",
        "  \"my_finetuned_model\",\n",
        "  evaluation_strategy=\"no\",\n",
        "  save_strategy=\"epoch\",\n",
        "  learning_rate=2e-5,\n",
        "  per_device_train_batch_size=32,\n",
        "  per_device_eval_batch_size=64,\n",
        "  weight_decay=0.01,\n",
        "  save_total_limit=3,\n",
        "  num_train_epochs=3,\n",
        "  predict_with_generate=True,\n",
        "  fp16=True,\n",
        ")"
      ],
      "metadata": {
        "id": "Zqp6UcbpNr7k"
      },
      "execution_count": 111,
      "outputs": []
    },
    {
      "cell_type": "code",
      "source": [
        "tokenized_datasets"
      ],
      "metadata": {
        "colab": {
          "base_uri": "https://localhost:8080/"
        },
        "id": "saM_l1w7HzaE",
        "outputId": "fc7cee65-df09-49aa-c29b-448d5445915c"
      },
      "execution_count": 112,
      "outputs": [
        {
          "output_type": "execute_result",
          "data": {
            "text/plain": [
              "DatasetDict({\n",
              "    train: Dataset({\n",
              "        features: ['input_ids', 'attention_mask', 'labels'],\n",
              "        num_rows: 750\n",
              "    })\n",
              "    test: Dataset({\n",
              "        features: ['input_ids', 'attention_mask', 'labels'],\n",
              "        num_rows: 250\n",
              "    })\n",
              "})"
            ]
          },
          "metadata": {},
          "execution_count": 112
        }
      ]
    },
    {
      "cell_type": "code",
      "source": [
        "from transformers import Seq2SeqTrainingArguments\n"
      ],
      "metadata": {
        "id": "IpsVFCx6A3yE"
      },
      "execution_count": 113,
      "outputs": []
    },
    {
      "cell_type": "code",
      "source": [
        "from transformers import Seq2SeqTrainer\n",
        "\n",
        "trainer = Seq2SeqTrainer(\n",
        "    model,\n",
        "    training_args,\n",
        "    train_dataset=tokenized_datasets[\"train\"],\n",
        "    eval_dataset=tokenized_datasets[\"test\"],\n",
        "    data_collator=data_collator,\n",
        "    tokenizer=tokenizer,\n",
        "    compute_metrics=compute_metrics,\n",
        ")"
      ],
      "metadata": {
        "id": "O7wrgUGIBAkm"
      },
      "execution_count": 114,
      "outputs": []
    },
    {
      "cell_type": "code",
      "source": [
        "trainer.evaluate(max_length=max_target_len)"
      ],
      "metadata": {
        "colab": {
          "base_uri": "https://localhost:8080/",
          "height": 349
        },
        "id": "3yty_jX1NQu-",
        "outputId": "48f04b2d-bc38-412c-b52f-471223bb7ec1"
      },
      "execution_count": 115,
      "outputs": [
        {
          "output_type": "display_data",
          "data": {
            "text/plain": [
              "<IPython.core.display.HTML object>"
            ],
            "text/html": [
              "\n",
              "    <div>\n",
              "      \n",
              "      <progress value='4' max='4' style='width:300px; height:20px; vertical-align: middle;'></progress>\n",
              "      [4/4 00:12]\n",
              "    </div>\n",
              "    "
            ]
          },
          "metadata": {}
        },
        {
          "output_type": "stream",
          "name": "stderr",
          "text": [
            "Trainer is attempting to log a value of \"{'score': 44.15272948398562, 'counts': [1864, 1270, 916, 686], 'totals': [2637, 2387, 2187, 2012], 'precisions': [70.68638604474782, 53.20485965647256, 41.88385916780979, 34.09542743538768], 'bp': 0.9171705028533759, 'sys_len': 2637, 'ref_len': 2865}\" of type <class 'dict'> for key \"eval/bleu\" as a scalar. This invocation of Tensorboard's writer.add_scalar() is incorrect so we dropped this attribute.\n"
          ]
        },
        {
          "output_type": "execute_result",
          "data": {
            "text/plain": [
              "{'eval_loss': 1.3957126140594482,\n",
              " 'eval_bleu': {'score': 44.15272948398562,\n",
              "  'counts': [1864, 1270, 916, 686],\n",
              "  'totals': [2637, 2387, 2187, 2012],\n",
              "  'precisions': [70.68638604474782,\n",
              "   53.20485965647256,\n",
              "   41.88385916780979,\n",
              "   34.09542743538768],\n",
              "  'bp': 0.9171705028533759,\n",
              "  'sys_len': 2637,\n",
              "  'ref_len': 2865},\n",
              " 'eval_bert': 0.8793061528205871,\n",
              " 'eval_runtime': 24.6059,\n",
              " 'eval_samples_per_second': 10.16,\n",
              " 'eval_steps_per_second': 0.163}"
            ]
          },
          "metadata": {},
          "execution_count": 115
        }
      ]
    },
    {
      "cell_type": "code",
      "source": [],
      "metadata": {
        "id": "TiU52MgbPZxT"
      },
      "execution_count": 115,
      "outputs": []
    },
    {
      "cell_type": "code",
      "source": [
        "trainer.train()"
      ],
      "metadata": {
        "colab": {
          "base_uri": "https://localhost:8080/",
          "height": 168
        },
        "id": "lSSdAkrqNSMX",
        "outputId": "a28f02ff-58a9-4464-8b51-eebdbc801102"
      },
      "execution_count": 116,
      "outputs": [
        {
          "output_type": "stream",
          "name": "stderr",
          "text": [
            "/usr/local/lib/python3.10/dist-packages/transformers/optimization.py:411: FutureWarning: This implementation of AdamW is deprecated and will be removed in a future version. Use the PyTorch implementation torch.optim.AdamW instead, or set `no_deprecation_warning=True` to disable this warning\n",
            "  warnings.warn(\n"
          ]
        },
        {
          "output_type": "display_data",
          "data": {
            "text/plain": [
              "<IPython.core.display.HTML object>"
            ],
            "text/html": [
              "\n",
              "    <div>\n",
              "      \n",
              "      <progress value='72' max='72' style='width:300px; height:20px; vertical-align: middle;'></progress>\n",
              "      [72/72 00:31, Epoch 3/3]\n",
              "    </div>\n",
              "    <table border=\"1\" class=\"dataframe\">\n",
              "  <thead>\n",
              " <tr style=\"text-align: left;\">\n",
              "      <th>Step</th>\n",
              "      <th>Training Loss</th>\n",
              "    </tr>\n",
              "  </thead>\n",
              "  <tbody>\n",
              "  </tbody>\n",
              "</table><p>"
            ]
          },
          "metadata": {}
        },
        {
          "output_type": "execute_result",
          "data": {
            "text/plain": [
              "TrainOutput(global_step=72, training_loss=1.2333659066094294, metrics={'train_runtime': 31.9392, 'train_samples_per_second': 70.446, 'train_steps_per_second': 2.254, 'total_flos': 52772338925568.0, 'train_loss': 1.2333659066094294, 'epoch': 3.0})"
            ]
          },
          "metadata": {},
          "execution_count": 116
        }
      ]
    },
    {
      "cell_type": "code",
      "source": [
        "trainer.evaluate(max_length=max_target_len)"
      ],
      "metadata": {
        "colab": {
          "base_uri": "https://localhost:8080/",
          "height": 367
        },
        "id": "vk-3I96ENW4Q",
        "outputId": "2daa5697-ecce-4598-bc72-cd9e12082fc4"
      },
      "execution_count": 117,
      "outputs": [
        {
          "output_type": "display_data",
          "data": {
            "text/plain": [
              "<IPython.core.display.HTML object>"
            ],
            "text/html": [
              "\n",
              "    <div>\n",
              "      \n",
              "      <progress value='8' max='4' style='width:300px; height:20px; vertical-align: middle;'></progress>\n",
              "      [4/4 01:10]\n",
              "    </div>\n",
              "    "
            ]
          },
          "metadata": {}
        },
        {
          "output_type": "stream",
          "name": "stderr",
          "text": [
            "Trainer is attempting to log a value of \"{'score': 43.440511317697556, 'counts': [1859, 1259, 903, 671], 'totals': [2775, 2525, 2324, 2148], 'precisions': [66.990990990991, 49.86138613861386, 38.855421686746986, 31.238361266294227], 'bp': 0.9680878589633352, 'sys_len': 2775, 'ref_len': 2865}\" of type <class 'dict'> for key \"eval/bleu\" as a scalar. This invocation of Tensorboard's writer.add_scalar() is incorrect so we dropped this attribute.\n"
          ]
        },
        {
          "output_type": "execute_result",
          "data": {
            "text/plain": [
              "{'eval_loss': 1.3405768871307373,\n",
              " 'eval_bleu': {'score': 43.440511317697556,\n",
              "  'counts': [1859, 1259, 903, 671],\n",
              "  'totals': [2775, 2525, 2324, 2148],\n",
              "  'precisions': [66.990990990991,\n",
              "   49.86138613861386,\n",
              "   38.855421686746986,\n",
              "   31.238361266294227],\n",
              "  'bp': 0.9680878589633352,\n",
              "  'sys_len': 2775,\n",
              "  'ref_len': 2865},\n",
              " 'eval_bert': 0.872798297047615,\n",
              " 'eval_runtime': 24.4755,\n",
              " 'eval_samples_per_second': 10.214,\n",
              " 'eval_steps_per_second': 0.163,\n",
              " 'epoch': 3.0}"
            ]
          },
          "metadata": {},
          "execution_count": 117
        }
      ]
    },
    {
      "cell_type": "code",
      "source": [],
      "metadata": {
        "id": "iPdwVIwSV_Fw"
      },
      "execution_count": null,
      "outputs": []
    },
    {
      "cell_type": "code",
      "source": [
        "from transformers import pipeline\n",
        "translator = pipeline(\"translation\", model= \"/content/finetuned-model/checkpoint-24\", device=0)"
      ],
      "metadata": {
        "id": "pvfeLsDZNZIv"
      },
      "execution_count": 122,
      "outputs": []
    },
    {
      "cell_type": "code",
      "source": [
        "translator(\"I hope this course has helped you on your data science journey!\")"
      ],
      "metadata": {
        "colab": {
          "base_uri": "https://localhost:8080/"
        },
        "id": "Ybcjmub_Navl",
        "outputId": "0ab723c1-8506-4810-9c99-13b5752e0168"
      },
      "execution_count": 126,
      "outputs": [
        {
          "output_type": "execute_result",
          "data": {
            "text/plain": [
              "[{'translation_text': \"J'espère que ce cours vous a aidé dans votre parcours data science!\"}]"
            ]
          },
          "metadata": {},
          "execution_count": 126
        }
      ]
    },
    {
      "cell_type": "code",
      "source": [
        "translator.evaluate(max_length=max_target_len)"
      ],
      "metadata": {
        "colab": {
          "base_uri": "https://localhost:8080/",
          "height": 181
        },
        "id": "wKshLLGfNd9P",
        "outputId": "1a0602b4-f67b-4bcc-e1a3-62bd2f09b611"
      },
      "execution_count": 127,
      "outputs": [
        {
          "output_type": "error",
          "ename": "AttributeError",
          "evalue": "ignored",
          "traceback": [
            "\u001b[0;31m---------------------------------------------------------------------------\u001b[0m",
            "\u001b[0;31mAttributeError\u001b[0m                            Traceback (most recent call last)",
            "\u001b[0;32m<ipython-input-127-3d640d35e984>\u001b[0m in \u001b[0;36m<cell line: 1>\u001b[0;34m()\u001b[0m\n\u001b[0;32m----> 1\u001b[0;31m \u001b[0mtranslator\u001b[0m\u001b[0;34m.\u001b[0m\u001b[0mevaluate\u001b[0m\u001b[0;34m(\u001b[0m\u001b[0mmax_length\u001b[0m\u001b[0;34m=\u001b[0m\u001b[0mmax_target_len\u001b[0m\u001b[0;34m)\u001b[0m\u001b[0;34m\u001b[0m\u001b[0;34m\u001b[0m\u001b[0m\n\u001b[0m",
            "\u001b[0;31mAttributeError\u001b[0m: 'TranslationPipeline' object has no attribute 'evaluate'"
          ]
        }
      ]
    },
    {
      "cell_type": "code",
      "source": [],
      "metadata": {
        "id": "zfW0sf_fVTL2"
      },
      "execution_count": null,
      "outputs": []
    }
  ]
}